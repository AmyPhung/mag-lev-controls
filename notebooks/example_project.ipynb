{
 "cells": [
  {
   "cell_type": "code",
   "execution_count": 1,
   "metadata": {},
   "outputs": [],
   "source": [
    "# Set the matplotlib magic. This line is specific to ipython notebooks.\n",
    "%matplotlib widget\n",
    "\n",
    "# Import some useful module.\n",
    "import time\n",
    "from matplotlib import pyplot as plt\n",
    "from IPython.display import HTML\n",
    "\n",
    "# Import the system module.\n",
    "import mag_lev"
   ]
  },
  {
   "cell_type": "code",
   "execution_count": 2,
   "metadata": {},
   "outputs": [
    {
     "name": "stdout",
     "output_type": "stream",
     "text": [
      "Starting system...\n",
      "System started\n",
      "Let's see if the magnet falls.\n",
      "Let's see if the magnet sticks.\n",
      "System stopped\n"
     ]
    }
   ],
   "source": [
    "# Create the system object.\n",
    "example_sys = mag_lev.MagLev()\n",
    "\n",
    "# Start the system.\n",
    "example_sys.start_system()\n",
    "\n",
    "# Set the amplifier's maximum voltage.\n",
    "example_sys.set_max_coil_voltage_magnitude(10.0)\n",
    "\n",
    "# Set the amplifier's voltage.\n",
    "example_sys.set_amplifier_input(200, example_sys.FORWARD)\n",
    "\n",
    "# Choose an object mass.\n",
    "example_sys.set_object_mass(3.0e-3)\n",
    "\n",
    "# Hold the magnet under the electromagnet.\n",
    "example_sys.hold_magnet_at_distance(3.0e-2)\n",
    "\n",
    "# Wait a moment and then remove the magnet.\n",
    "time.sleep(1.0)\n",
    "example_sys.remove_magnet()\n",
    "\n",
    "# Wait a moment and then hold the magnet under the electromagnet again at a\n",
    "# different distance farther away.\n",
    "time.sleep(1.0)\n",
    "example_sys.hold_magnet_at_distance(5.0e-2)\n",
    "\n",
    "# Wait a moment and then release the magnet.\n",
    "print(\"Let's see if the magnet falls.\")\n",
    "time.sleep(1.0)\n",
    "example_sys.release_magnet()\n",
    "\n",
    "# Watch what happens for a bit.\n",
    "start_time = time.time()\n",
    "end_time = 2.0\n",
    "\n",
    "while time.time() - start_time < end_time:\n",
    "    # print(example_sys.get_hall_voltage())\n",
    "    pass\n",
    "\n",
    "# Wait a moment and then hold the magnet under the electromagnet again but\n",
    "# much closer.\n",
    "time.sleep(1.0)\n",
    "example_sys.hold_magnet_at_distance(3.0e-2)\n",
    "\n",
    "# Wait a moment and then release the magnet.\n",
    "print(\"Let's see if the magnet sticks.\")\n",
    "time.sleep(1.0)\n",
    "example_sys.release_magnet()\n",
    "\n",
    "# Watch what happens for a bit again.\n",
    "start_time = time.time()\n",
    "\n",
    "while time.time() - start_time < end_time:\n",
    "    pass\n",
    "    # print(example_sys.get_hall_voltage())\n",
    "\n",
    "# Wait a moment and stop the system.\n",
    "time.sleep(1.0)\n",
    "example_sys.stop_system()\n",
    "\n",
    "# Wait a moment to make sure the system fully stopped.\n",
    "\n",
    "# Note that all the other waits were as desired except the following wait\n",
    "# as the system will not give an animation if the system is not fully\n",
    "# stopped.\n",
    "time.sleep(1.0)\n",
    "\n",
    "# After running up to this point, the notebook is about 4.8 [kB]."
   ]
  },
  {
   "cell_type": "code",
   "execution_count": 3,
   "metadata": {},
   "outputs": [],
   "source": [
    "# Sometimes the below commands can be finicky or require a refresh of the page.\n",
    "# Sometimes they just take a while to load. Sometimes minutes.\n",
    "# Note that two plots always seem to show up (although unclear why)."
   ]
  },
  {
   "cell_type": "code",
   "execution_count": 4,
   "metadata": {},
   "outputs": [
    {
     "data": {
      "application/vnd.jupyter.widget-view+json": {
       "model_id": "7f237d70aab0433d9fea6f1a29e8eab0",
       "version_major": 2,
       "version_minor": 0
      },
      "text/plain": [
       "Canvas(toolbar=Toolbar(toolitems=[('Home', 'Reset original view', 'home', 'home'), ('Back', 'Back to previous …"
      ]
     },
     "metadata": {},
     "output_type": "display_data"
    }
   ],
   "source": [
    "# Take a look. Make sure all the above makes sense given the animation.\n",
    "# For some reason, this line causes the animation to display (although not smoothly).\n",
    "anim = example_sys.create_system_animation();\n",
    "# After running up to this point, the notebook is about 5.5 [kB]."
   ]
  },
  {
   "cell_type": "code",
   "execution_count": 5,
   "metadata": {},
   "outputs": [],
   "source": [
    "# Use pyplot as a default, but likely the playback will be poor.\n",
    "# plt.show()"
   ]
  },
  {
   "cell_type": "code",
   "execution_count": 5,
   "metadata": {},
   "outputs": [],
   "source": [
    "# To remove the animation object to shrink the notebook, \n",
    "# run the following command and rerun the cell containing the plot above.\n",
    "%reset_selective -f anim"
   ]
  },
  {
   "cell_type": "code",
   "execution_count": 6,
   "metadata": {},
   "outputs": [
    {
     "ename": "NameError",
     "evalue": "name 'anim' is not defined",
     "output_type": "error",
     "traceback": [
      "\u001b[0;31m---------------------------------------------------------------------------\u001b[0m",
      "\u001b[0;31mNameError\u001b[0m                                 Traceback (most recent call last)",
      "\u001b[0;32m<ipython-input-6-26f48f0f22f7>\u001b[0m in \u001b[0;36m<module>\u001b[0;34m\u001b[0m\n\u001b[1;32m      1\u001b[0m \u001b[0;31m# A nice video can be produced with the following command. This could take maybe 30 [s].\u001b[0m\u001b[0;34m\u001b[0m\u001b[0;34m\u001b[0m\u001b[0;34m\u001b[0m\u001b[0m\n\u001b[0;32m----> 2\u001b[0;31m \u001b[0manim_video\u001b[0m \u001b[0;34m=\u001b[0m \u001b[0mHTML\u001b[0m\u001b[0;34m(\u001b[0m\u001b[0manim\u001b[0m\u001b[0;34m.\u001b[0m\u001b[0mto_html5_video\u001b[0m\u001b[0;34m(\u001b[0m\u001b[0;34m)\u001b[0m\u001b[0;34m)\u001b[0m\u001b[0;34m\u001b[0m\u001b[0;34m\u001b[0m\u001b[0m\n\u001b[0m\u001b[1;32m      3\u001b[0m \u001b[0;31m# After running up to this point, the notebook is about 68.4 [kB].\u001b[0m\u001b[0;34m\u001b[0m\u001b[0;34m\u001b[0m\u001b[0;34m\u001b[0m\u001b[0m\n",
      "\u001b[0;31mNameError\u001b[0m: name 'anim' is not defined"
     ]
    }
   ],
   "source": [
    "# A nice video can be produced with the following command. This could take maybe 30 [s].\n",
    "anim_video = HTML(anim.to_html5_video())\n",
    "# After running up to this point, the notebook is about 68.4 [kB]."
   ]
  },
  {
   "cell_type": "code",
   "execution_count": null,
   "metadata": {
    "scrolled": false
   },
   "outputs": [],
   "source": [
    "# Display the video.\n",
    "anim_video"
   ]
  },
  {
   "cell_type": "code",
   "execution_count": null,
   "metadata": {},
   "outputs": [],
   "source": [
    "# In order to shrink the notebook (which is important), \n",
    "# run the following then rerun the above cell containing the video.\n",
    "%reset_selective -f anim_video"
   ]
  },
  {
   "cell_type": "code",
   "execution_count": null,
   "metadata": {},
   "outputs": [],
   "source": []
  }
 ],
 "metadata": {
  "kernelspec": {
   "display_name": "Python 3",
   "language": "python",
   "name": "python3"
  },
  "language_info": {
   "codemirror_mode": {
    "name": "ipython",
    "version": 3
   },
   "file_extension": ".py",
   "mimetype": "text/x-python",
   "name": "python",
   "nbconvert_exporter": "python",
   "pygments_lexer": "ipython3",
   "version": "3.7.3"
  }
 },
 "nbformat": 4,
 "nbformat_minor": 4
}
