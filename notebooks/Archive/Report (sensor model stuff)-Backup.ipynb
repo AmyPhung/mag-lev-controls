{
 "cells": [
  {
   "cell_type": "markdown",
   "metadata": {},
   "source": [
    "# Final Report\n",
    "\n",
    "Contributors: Amy Phung and Kyle Bertram\n",
    "\n",
    "## Overview\n",
    "The approach we used to levitate the magnet can be summarized as follows:\n",
    "- We used a PD controller\n",
    "- To force \"unity feedback,\" we used the output of our sensor model as input to our system\n",
    "- To help account for disturbances (gravity) in our controller, we added an offset voltage to center our output around the voltage value that would theoretically offset gravity perfectly\n",
    "\n",
    "Here's a block diagram that describes our approach:\n",
    "\n",
    "<img src=\"./images/block-diagram.PNG\" width=\"70%\">\n",
    "\n",
    "where :\n",
    "- $y$ = distance setpoint\n",
    "- $C$ = controller block\n",
    "- $D$ = disturbance, representing gravity\n",
    "- $G_c$ = circuit \"plant\" (models inductance)\n",
    "- $G_e$ = electromagnet \"plant\" (models physical effect of electromagnet on permanent magent's position)\n",
    "- $\\hat{y}$ = measured distance\n",
    "\n",
    "To make our system have \"unity feedback,\" we used the estimated position output of our hall sensor model as feedback to \"close the loop\" in our system instead of using the hall voltage directly.\n",
    "\n",
    "To see a video of our controller in action, visit: https://photos.app.goo.gl/DcuAdg23ufpoWhGv5"
   ]
  },
  {
   "cell_type": "code",
   "execution_count": 1,
   "metadata": {},
   "outputs": [],
   "source": [
    "%matplotlib inline\n",
    "# %matplotlib widget\n",
    "\n",
    "# Import external modules\n",
    "import time\n",
    "from matplotlib import pyplot as plt\n",
    "from IPython.display import HTML\n",
    "import numpy as np\n",
    "import math\n",
    "from scipy.optimize import curve_fit\n",
    "\n",
    "# Import the system module.\n",
    "import mag_lev"
   ]
  },
  {
   "cell_type": "code",
   "execution_count": 2,
   "metadata": {},
   "outputs": [],
   "source": [
    "# Format Plots\n",
    "plt.rcParams['figure.facecolor'] = 'white'\n",
    "plt.rcParams['figure.dpi'] = 150\n",
    "\n",
    "# Change font\n",
    "plt.rcParams['mathtext.fontset'] = 'stix'\n",
    "plt.rcParams['font.family'] = 'STIXGeneral'"
   ]
  },
  {
   "cell_type": "markdown",
   "metadata": {},
   "source": [
    "Here are the constants we used for our model. We will explain their derivation below"
   ]
  },
  {
   "cell_type": "code",
   "execution_count": 3,
   "metadata": {},
   "outputs": [],
   "source": [
    "MAX_VOLTAGE = 7.0                   # [V]\n",
    "R = 2.41                             # Coil Resistance [ohms]\n",
    "L = 0.015266817305695372             # Inductance [H]\n",
    "c_I_to_V_h = 0.47996355000000007     # Computed scaling constant between electromagnet current and hall voltage\n",
    "\n",
    "# Lumped parameter constants for V_h to position\n",
    "hall_params = [2.58897620e-05, 2.49441669e+00, 1.35761509e-02]\n",
    "\n",
    "# Lumped paramter in electromagnet current to position model\n",
    "C1 = -0.0000025 \n",
    "\n",
    "# For computing hall voltage contribution from magnet\n",
    "C2 = 0.86 # Electromagnet voltage scaling\n",
    "C3 = 0.39 # Distance derivative scaling\n",
    "\n",
    "# Linearization setpoints\n",
    "m = 0.0031880407975657618  # Permanent magnet mass [kg]\n",
    "I_bar = 1.5 # Note: magnet will be pre-charged to this value\n",
    "y_bar = 0.025 # Note: this is the point where we will try to control around\n",
    "V_e_bar = I_bar * R # Theoretical voltage needed to create I_bar"
   ]
  },
  {
   "cell_type": "markdown",
   "metadata": {},
   "source": [
    "-----------"
   ]
  },
  {
   "cell_type": "markdown",
   "metadata": {},
   "source": [
    "\n",
    "## Modeling\n"
   ]
  },
  {
   "cell_type": "markdown",
   "metadata": {},
   "source": [
    "#### $G_c$ Model\n",
    "\n",
    "Since the circuit's relationship between current and voltage can be modeled as a linear system whose transfer function can be written as \n",
    "\n",
    "$$\\frac{I}{V} = \\frac{1}{R + Ls}$$\n",
    "\n",
    "We can compute the inductance by observing the electromagnet's time constant, which can be measured using the hall effect sensor (we can do this if we assume that the hall effect sensor's dynamics are negligible)\n",
    "\n",
    "For a first order system of the form \n",
    "$$\\frac{k}{\\tau s + 1}$$\n",
    "\n",
    "$\\tau$ represents the time constant. With this information, we can conclude that the time constant of our system should be \n",
    "$$\\tau = \\frac{L}{R}$$\n"
   ]
  },
  {
   "cell_type": "markdown",
   "metadata": {},
   "source": [
    "To start, let's take some measurements of $V_h$ when the PWM is set to $100$"
   ]
  },
  {
   "cell_type": "code",
   "execution_count": 7,
   "metadata": {},
   "outputs": [
    {
     "name": "stdout",
     "output_type": "stream",
     "text": [
      "Starting system...\n",
      "System started\n",
      "You cannot remove a magnet that is not present.\n",
      "System stopped\n"
     ]
    }
   ],
   "source": [
    "sys_3 = mag_lev.MagLev()\n",
    "sys_3.start_system()\n",
    "sys_3.set_max_coil_voltage_magnitude(MAX_VOLTAGE)\n",
    "\n",
    "time_list = []\n",
    "V_h_list = []\n",
    "\n",
    "sys_3.remove_magnet()\n",
    "time.sleep(1)\n",
    "\n",
    "start_t = time.time()\n",
    "\n",
    "# The delay is added to ensure we can directly observe the point at which the \n",
    "# electromagnet is turned on\n",
    "delay = 0.1\n",
    "test_PWM = 100\n",
    "\n",
    "while (time.time() - start_t < 0.2):        \n",
    "    if time.time() - start_t > delay: # Add in delay to ensure we actually start from '0'\n",
    "        sys_3.set_amplifier_input(test_PWM, sys_3.FORWARD)\n",
    "    time_list.append(time.time() - start_t)\n",
    "    V_h_list.append(sys_3.get_hall_voltage())\n",
    "    \n",
    "sys_3.stop_system()"
   ]
  },
  {
   "cell_type": "markdown",
   "metadata": {},
   "source": [
    "Since there's some distance between the measurements, let's extrapolate between the points with a best-fit line\n",
    "\n",
    "We know that the time-domain response can be written as\n",
    "$$\n",
    "V_h = (V_{max} - V_{min})(1-e^{-t/\\tau}) + V_{min}\n",
    "$$\n",
    "\n",
    "where \n",
    "- $V_{max}$ is the steady-state hall voltage for a given PWM command\n",
    "- $V_{min}$ is the hall voltage when the PWM = $0$\n",
    "- $\\tau$ is the time constant, which is equal to $\\frac{L}{R}$\n",
    "\n",
    "Inverting this function gives us \n",
    "$$\n",
    "-\\tau \\ln{(- \\frac{V_h-V_{min}}{V_{max}-V_{min}} + 1)} = t\n",
    "$$\n",
    "which allows us to compute what the time constant is given the expected value for the hall voltage"
   ]
  },
  {
   "cell_type": "code",
   "execution_count": 8,
   "metadata": {},
   "outputs": [],
   "source": [
    "V_max = max(V_h_list)\n",
    "V_min = min(V_h_list)\n",
    "\n",
    "time_list = np.array(time_list)\n",
    "V_h_list = np.array(V_h_list)\n",
    "\n",
    "# Get index of point closest to t=0.1 (delay)\n",
    "# Compute differences\n",
    "deltas = abs(time_list - delay) \n",
    "\n",
    "# Get closest index\n",
    "idx = np.argmin(deltas)\n",
    "\n",
    "# Only use data from t > 0.1\n",
    "idx = idx"
   ]
  },
  {
   "cell_type": "code",
   "execution_count": 9,
   "metadata": {},
   "outputs": [],
   "source": [
    "calibration_t = time_list[idx:] - delay\n",
    "calibration_V_h = V_h_list[idx:]\n",
    "\n",
    "def hallFuncPWM100(t, L):\n",
    "    return (V_max - V_min)*(1-math.e**(-t*R/L)) + V_min\n",
    "\n",
    "def inverseHallFuncPWM100(V_h, L):\n",
    "    return -L/R * math.log(-(V_h - V_min)/(V_max - V_min) + 1)"
   ]
  },
  {
   "cell_type": "code",
   "execution_count": 10,
   "metadata": {},
   "outputs": [],
   "source": [
    "# Only use points after t=0.1 for curve fitting\n",
    "V_h_model, pcov = curve_fit(hallFuncPWM100, calibration_t, calibration_V_h)\n",
    "\n",
    "# Expected value of V_h at time constant\n",
    "V_h_tc = (1- 1/math.e) * (V_max - V_min) + V_min \n",
    "\n",
    "# Compute time constant\n",
    "tc = inverseHallFuncPWM100(V_h_tc, V_h_model)"
   ]
  },
  {
   "cell_type": "code",
   "execution_count": 12,
   "metadata": {},
   "outputs": [
    {
     "data": {
      "text/plain": [
       "<matplotlib.legend.Legend at 0x7f98e033a208>"
      ]
     },
     "execution_count": 12,
     "metadata": {},
     "output_type": "execute_result"
    },
    {
     "data": {
      "image/png": "[encoded data removed]",
      "text/plain": [
       "<Figure size 900x600 with 1 Axes>"
      ]
     },
     "metadata": {},
     "output_type": "display_data"
    }
   ],
   "source": [
    "plt.plot(calibration_t, calibration_V_h, '.-', label=\"Sim\")\n",
    "plt.plot(calibration_t, hallFuncPWM100(calibration_t, *V_h_model), label=\"Model\")\n",
    "plt.plot(tc, V_h_tc, '*', label=\"Hall Voltage at Time Constant\")\n",
    "plt.title(\"Hall Voltage Over Time (PWM = 100)\")\n",
    "plt.ylabel(\"Hall Voltage (V)\")\n",
    "plt.xlabel(\"Time (s)\")\n",
    "plt.legend()"
   ]
  },
  {
   "cell_type": "markdown",
   "metadata": {},
   "source": [
    "We can use $\\tau$ to compute the inductance since $\\tau =\\frac{L}{R}$"
   ]
  },
  {
   "cell_type": "code",
   "execution_count": 14,
   "metadata": {},
   "outputs": [
    {
     "data": {
      "text/plain": [
       "array([0.0164527])"
      ]
     },
     "execution_count": 14,
     "metadata": {},
     "output_type": "execute_result"
    }
   ],
   "source": [
    "R * tc"
   ]
  },
  {
   "cell_type": "markdown",
   "metadata": {},
   "source": [
    "#### $G_e$ Model"
   ]
  },
  {
   "cell_type": "markdown",
   "metadata": {},
   "source": [
    "Since we're defining $y$ to be distance, the electromagnet's effect on $y$ will be in the negative direction (since it pulls the magnet closer), and gravity's effect will be in the positive direction (since it pulls the magnets apart). The ODE we're using to model this relationship can be written as:\n",
    "\n",
    "$$m \\frac{d^2 y}{dt^2} = m g - \\frac{\\mu_0 N I A m_2}{L 4 \\pi y^2}$$\n",
    "\n",
    "where:\n",
    "- $m$ = mass\n",
    "- $y$ = distance \n",
    "- $g$ = gravitational constant, 9.81\n",
    "- $\\mu_0$ = the magnetic constant\n",
    "- $I$ = electromagnet current\n",
    "- $N$ = number of turns in electromagnet coil\n",
    "- $A$ = cross-sectional area of magnet wire\n",
    "- $m_2$ = magnetic dipole moment for permanent magnet\n",
    "- $L$ = length of the magnet\n",
    "\n",
    "Since a lot of these constants are difficult to aquire individually, we condensed them all into the constant $C_1$ and re-wrote this equation as follows:\n",
    "\n",
    "$$\\frac{d^2 y}{dt^2} = g - \\frac{C_1 I}{4 \\pi y^2}$$\n",
    "\n",
    "We hand-adjusted $C_1$ by comparing our model implementation and the simulation results side-by-side"
   ]
  },
  {
   "cell_type": "markdown",
   "metadata": {},
   "source": [
    "#### Measurement Model\n",
    "In order to simplify the controller for our system, we decided to model the hall effect sensor for our system separately so that we could use its position estimate as feedback for our controller. Using the computed position value instead of the raw hall voltage as feedback allows our control loop to have unity feedback since we have direct feedback of the parameter we want to control \n",
    "\n",
    "To do this, we needed a function that maps directly from the hall voltage $V_h$ to magnet distance $y$. However, we found that this relationship is also dependent on additional variables such as the electromagnet current and permanent magnet velocity, which we needed to account for in our function.\n",
    "\n",
    "Through testing, we found that each shift in 50 PWM (at steady state when max voltage is set to 10V) is pretty strongly correlated with a hall voltage shift of 0.3905. We used this relationship to compute `c_I_to_V_h` "
   ]
  },
  {
   "cell_type": "code",
   "execution_count": 18,
   "metadata": {},
   "outputs": [
    {
     "data": {
      "text/plain": [
       "0.47996355000000007"
      ]
     },
     "execution_count": 18,
     "metadata": {},
     "output_type": "execute_result"
    }
   ],
   "source": [
    "PWM_delta = 50\n",
    "\n",
    "# Compute electromagnet voltage\n",
    "V_e_delta = PWM_delta/255 * 10\n",
    "\n",
    "# Compute steady-state current \n",
    "I_delta = V_e_delta / R\n",
    "\n",
    "# Compute scaling constant\n",
    "c_I_to_V_h = 0.3905 / I_delta\n",
    "\n",
    "c_I_to_V_h"
   ]
  },
  {
   "cell_type": "markdown",
   "metadata": {},
   "source": [
    "Now that we have a scaling constant that computes the electromagnet's contribution to the hall voltage, we can create a function that allows the hall effect sensor to act like a position sensor\n",
    "\n",
    "We know that the magnet's B field is directly proportional to the hall effect sensor's voltage (once the electromagnet's effects are removed), so let's start with the equation for a permanent magnet B field \n",
    "$$\n",
    "\\mathbf{B}(\\mathbf{r}) = \n",
    "    \\frac{\\mu_0}{4 \\pi} \n",
    "    \\frac{3 \\mathbf{\\hat{r}} (\\mathbf{\\hat{r}} \\cdot \\mathbf{m}) - \\mathbf{m}}{|r|^3}\n",
    "$$\n",
    "(This equation models the magnet as a magnetic dipole moment, which doesn’t consider the shape of the magnet at all. We assume that $\\hat{r}$ is perpendicular to the magnetic dipole moment $m$) \n",
    "\n",
    "Reference: https://en.wikipedia.org/wiki/Magnetic_moment#Magnetic_pole_model\n",
    "\n",
    "If we assume $\\mathbf{m}$ is a constant and that we have the magnetic field perfectly aligned, we can separate all of the constants out as follows:\n",
    "\n",
    "$$\n",
    "\\mathbf{B}(\\mathbf{r}) = \n",
    "    \\frac{\\mu_0 (2\\mathbf{m})}{4 \\pi} \n",
    "    \\frac{1}{|r|^3}\n",
    "$$\n",
    "\n",
    "Which can be equivalently written as\n",
    "$$\n",
    "\\mathbf{B}(\\mathbf{r}) = \n",
    "    c\n",
    "    \\frac{1}{|r|^3}\n",
    "$$\n",
    "\n",
    "Where $c$ is a constant representing $\\frac{\\mu_0 (2\\mathbf{m})}{4 \\pi} $\n",
    "\n",
    "We used this model as a starting point, but to account for slight differences between this model and our particular system, we added some constants into the model to . We also found that our actual system was also dependent on the permanent magnet's velocity (which makes logical sense since moving electric fields can influence current), so we added additional terms to our model to also account for those.\n",
    "\n",
    "Putting all the pieces together, we get a position-to-voltage calibration function equation in the form\n",
    "$$\n",
    "\\frac{a}{(y + c)^3} + C_2 I - C_3 dy + b = V_h\n",
    "$$\n",
    "\n",
    "which can be inverted to create a voltage-to-position function in the form\n",
    "$$\n",
    "\\sqrt[3]{\\frac{a}{V_h - C_2 I + C_3 dy -b}} - c = y\n",
    "$$\n",
    "\n",
    "where\n",
    "- $a,b,c$ = lumped parameter constants\n",
    "- $y$ = magnet position\n",
    "- $V_h$ = Hall voltage\n",
    "- $dy$ = magnet velocity\n",
    "- $C_2, C_3$ = additional scaling constants\n",
    "- $I$ = current\n",
    "\n",
    "we tuned these constants by collecting a lot of data with the simulator and using scipy's curve fitting function. For brevity, those details are omitted in this report, but the details can be found in our [sensor_model_exploration notebook](https://github.com/AmyPhung/mag-lev-controls/blob/master/notebooks/sensor_model_exploration.ipynb)\n",
    "\n",
    "This analysis created the `convertToDistance` function below"
   ]
  },
  {
   "cell_type": "markdown",
   "metadata": {},
   "source": [
    "## Controller analysis\n",
    "- add note about distrubances gravity whatnot"
   ]
  },
  {
   "cell_type": "markdown",
   "metadata": {},
   "source": [
    "## Implementation\n",
    "\n",
    "For our implementation, we created two classes - one to represent our model independently from the simulator, and one to run the simulator and keep track of all the state variables needed for our controller and sensor models. These are included here for reference"
   ]
  },
  {
   "cell_type": "markdown",
   "metadata": {},
   "source": [
    "### Functions\n",
    "\n",
    "These functions are shared between both our model class, and the class we use to run the simulator"
   ]
  },
  {
   "cell_type": "code",
   "execution_count": 20,
   "metadata": {},
   "outputs": [],
   "source": [
    "# Modeling Functions\n",
    "def PWMtoVolts(PWM):\n",
    "    \"\"\"Convert from PWM command to electromagnet voltage\"\"\"\n",
    "    return PWM/255 * MAX_VOLTAGE\n",
    "\n",
    "def voltsToPWM(V_e):\n",
    "    \"\"\"Convert from electromagnet voltage to PWM command\"\"\"\n",
    "    return V_e/MAX_VOLTAGE * 225\n",
    "\n",
    "def currentToHallVoltage(I):\n",
    "    return c_I_to_V_h * I\n",
    "\n",
    "def computeSteadyStateCurrent(PWM):\n",
    "    V_e = PWMtoVolts(PWM)\n",
    "    I = V_e / R\n",
    "    return I\n",
    "\n",
    "def computeElectromagnetVoltage(I):\n",
    "    \"\"\"Compute theoretical voltage needed to create steady-state current\"\"\"\n",
    "    V_e = I * R\n",
    "    return V_e\n",
    "\n",
    "def convertToDistance(V_h, I, dy):\n",
    "    \"\"\"Computes distance of permanent magnet from electromagnet based on\n",
    "    input hall voltage by subtracting contribution from electromagnet \"\"\"\n",
    "\n",
    "    # Check for clipping\n",
    "    if V_h > 4:\n",
    "        y = 0.015\n",
    "#         print(\"Warning: Clipping in hall voltage - check gains and that the magnet isn't too close\")\n",
    "        return y\n",
    "    \n",
    "    # Compute hall voltage contribution from electromagnet\n",
    "    V_h_from_e = c_I_to_V_h * I\n",
    "    \n",
    "    # Compute hall voltage contribution from magnet\n",
    "    V_h_from_m = V_h - C2*V_h_from_e + C3*dy\n",
    "    \n",
    "    # Convert from hall voltage to position\n",
    "    y = voltToPos(V_h_from_m,  *hall_params)   \n",
    "\n",
    "    # Cap y within range\n",
    "    if np.iscomplex(y) or y > 0.1:\n",
    "        y = 0.1\n",
    "#         print(\"Warning: magnet has probably fallen\")\n",
    "\n",
    "    elif y < 0.015:\n",
    "        # We can't accurately measure less than 1.5cm away anyways\n",
    "        y = 0.015\n",
    "#         print(\"Warning: magnet has moved too close to electromagnet\")\n",
    "        \n",
    "    return y\n",
    "        \n",
    "def posToVolt(x, a, b, c):\n",
    "    return a/((x + c)**3) + b\n",
    "\n",
    "def voltToPos(x, a, b, c):\n",
    "    return (a/(x - b))**(1/3) - c\n",
    "\n",
    "def computePIDController(Kp, Ki, Kd, e, E, de):\n",
    "    \"\"\"Based on the current converted sensor reading, compute the next\n",
    "    electromagnet voltage command to send to the plant\"\"\"\n",
    "\n",
    "    # Compute new command\n",
    "    # V_e_bar is added to counteract effect of disturbance (gravity)\n",
    "    V_e = e*Kp + E*Ki + de*Kd + V_e_bar \n",
    "\n",
    "    # Limit V_e to match physical constraints of the system\n",
    "    if V_e < 0:\n",
    "        V_e = 0\n",
    "    elif V_e > MAX_VOLTAGE: #7: # Set 7V as the max voltage to use\n",
    "        V_e = MAX_VOLTAGE #7 \n",
    "    return V_e"
   ]
  },
  {
   "cell_type": "markdown",
   "metadata": {},
   "source": [
    "### Controller Class\n",
    "\n",
    "This class is used to run the simulator, and uses our model to keep track of current over time to compute the current position of the magnet"
   ]
  },
  {
   "cell_type": "code",
   "execution_count": 21,
   "metadata": {},
   "outputs": [],
   "source": [
    "class MagLevController():\n",
    "    def __init__(self):       \n",
    "        # State vars\n",
    "        self.dt = 0                     # Actual time since last timestep\n",
    "        self.t = 0                      # Time to use in graphs and calculations (starts from 0)\n",
    "        self.y = 0                      # Distance from electromagnet\n",
    "        self.dy = 0\n",
    "        self.I = 0                      # Current\n",
    "        self.V_e = 0                    # Electromagnet voltage command\n",
    "        self.e = 0                      # Error\n",
    "        self.de = 0                     # Derivative of error\n",
    "        self.E = 0                      # Integral of error\n",
    "        \n",
    "        # Data logging\n",
    "        self.t_list = []\n",
    "        self.V_h_list = []\n",
    "        self.y_list = []\n",
    "        self.y_measured_list = []\n",
    "        self.I_list = []\n",
    "        self.e_list = []\n",
    "        self.de_list = []\n",
    "        self.E_list = []\n",
    "        self.V_e_list = []\n",
    "        \n",
    "        # Other vars\n",
    "        self.wall_time = time.time()    # Output of time.time()\n",
    "    \n",
    "    def updateError(self, y): \n",
    "        # Update error measurements\n",
    "        \n",
    "        # Current error\n",
    "        self.e = y-y_bar\n",
    "        \n",
    "        # Derivative of error\n",
    "        if len(self.e_list) == 0:\n",
    "            # Handle derivative for first timestep\n",
    "            self.de = (self.e) / self.dt\n",
    "        else:\n",
    "            self.de = (self.e - self.e_list[-1]) / self.dt    # Derivative of error\n",
    "           \n",
    "        # Integral of error\n",
    "        self.E += self.e * self.dt\n",
    "        \n",
    "        # Save error to log\n",
    "        self.e_list.append(self.e)\n",
    "        self.de_list.append(self.de)\n",
    "        self.E_list.append(self.E)\n",
    "    \n",
    "    \n",
    "    def reset(self):\n",
    "        \"\"\"Reset state variables and data logs\"\"\"\n",
    "        self.dt = 0\n",
    "        self.t = 0\n",
    "        self.I = 0\n",
    "        self.y = 0\n",
    "        self.dy = 0\n",
    "        self.V_e = 0                    \n",
    "        self.e = 0                   \n",
    "        self.de = 0                \n",
    "        self.E = 0                 \n",
    "        \n",
    "        self.t_list = []\n",
    "        self.V_h_list = []\n",
    "        self.y_list = []\n",
    "        self.y_measured_list = []\n",
    "        self.I_list = []\n",
    "        self.e_list = []\n",
    "        self.de_list = []\n",
    "        self.E_list = []\n",
    "        self.V_e_list = []\n",
    "\n",
    "    def runPIDControllerTest(self, end_t, Kp, Ki, Kd, warmup=True):\n",
    "        \"\"\"Create a simulation and run it for set amount of time\n",
    "        \n",
    "        This test drops the magnet to test the controller - we assume that \n",
    "        the setpoint is equal to the global variable y_bar \"\"\"\n",
    "        # Set setpoint to object starting distance        \n",
    "        self.reset()\n",
    "        \n",
    "        self.sys = mag_lev.MagLev()\n",
    "        self.sys.start_system()\n",
    "        self.sys.set_max_coil_voltage_magnitude(MAX_VOLTAGE)\n",
    "        self.sys.set_object_mass(m)\n",
    "        \n",
    "        self.sys.hold_magnet_at_distance(y_bar)   \n",
    "        self.y = y_bar\n",
    "        \n",
    "        if warmup:\n",
    "            # Initialize electromagnet to voltage that theoretically balances gravity\n",
    "            setpoint_PWM = voltsToPWM(V_e_bar)\n",
    "            self.sys.set_amplifier_input(setpoint_PWM, self.sys.FORWARD)\n",
    "            self.I = I_bar\n",
    "        \n",
    "        # Add some time to ensure hall voltage measurements and \n",
    "        # inductor dynamics have stabilized\n",
    "        time.sleep(1) \n",
    "        \n",
    "        self.sys.release_magnet()\n",
    "             \n",
    "        # Initialize time\n",
    "        self.wall_time = time.time()\n",
    "        \n",
    "        while self.t < end_t:              \n",
    "            # Update timing\n",
    "            self.dt = time.time() - self.wall_time\n",
    "            self.wall_time = time.time()\n",
    "            self.t += self.dt\n",
    "            \n",
    "            # Update current model\n",
    "            dI = ((self.V_e - self.I * R) / L) * self.dt\n",
    "            self.I += dI\n",
    "            \n",
    "            # Convert hall voltage into distance measurement\n",
    "            V_h = self.sys.get_hall_voltage()    \n",
    "            y_measured = convertToDistance(V_h, self.I, self.dy)\n",
    "            \n",
    "            if len(self.y_list) < 1:\n",
    "                self.dy = 0\n",
    "            else:\n",
    "                self.dy = (y_measured - self.y_list[-1])\n",
    "                \n",
    "            # Update position\n",
    "            self.y += self.dy\n",
    "            \n",
    "            # Start running controller         \n",
    "            self.updateError(self.y)\n",
    "            self.V_e = computePIDController(Kp, Ki, Kd, self.e, self.E, self.de)\n",
    "            \n",
    "            # Set PWM command\n",
    "            PWM = voltsToPWM(self.V_e)\n",
    "            self.sys.set_amplifier_input(PWM, self.sys.FORWARD)\n",
    "                  \n",
    "            # Log data point\n",
    "            self.t_list.append(self.t)\n",
    "            self.V_h_list.append(V_h)\n",
    "            self.y_list.append(self.y)\n",
    "            self.I_list.append(self.I)\n",
    "            self.V_e_list.append(self.V_e)\n",
    "            \n",
    "        self.sys.stop_system()\n",
    "        \n",
    "        time.sleep(1)\n",
    "        self.anim = self.sys.create_system_animation();"
   ]
  },
  {
   "cell_type": "markdown",
   "metadata": {},
   "source": [
    "### Custom Model\n",
    "\n",
    "This section contains code for a model that replicates the \"real world\" simulation as closely as possible. Note that this model is entirely independent from the \"real world\" simulation, and only re-uses constants. In other words, this model attempts to replicate the \"real world\" simulation behavior but never makes calls to the MagLev API\n",
    "\n",
    "For more info on the math behind the model, see here: https://docs.google.com/document/d/1e9rO8AiSlSfKWVc_sojiy2BG749beE5V_XPPUCHijM0/edit?usp=sharing\n",
    "\n",
    "Note that the model is not yet linearized for our controller - will do that once we've confirmed it's valid"
   ]
  },
  {
   "cell_type": "code",
   "execution_count": 22,
   "metadata": {},
   "outputs": [],
   "source": [
    "# Creating our own model to compare to the \"real world\" model\n",
    "class MagLevModel():\n",
    "    def __init__(self, dt=0.001):\n",
    "        # Parameters\n",
    "        self.dt = dt                        # Timestep for approximation [s]\n",
    "            \n",
    "        # State variables\n",
    "        self.V_e = 0                    # Electromagnet voltage\n",
    "        self.I = I_bar                  # Electromagnet current\n",
    "        self.dI = 0\n",
    "        self.y = y_bar                  # Magnet position\n",
    "        self.t = 0                      # Current model time\n",
    "        self.dy = 0\n",
    "        self.e = 0                   \n",
    "        self.de = 0                \n",
    "        self.E = 0                 \n",
    "               \n",
    "        # Data recording\n",
    "        self.ts = []          # List of timesteps\n",
    "        self.ys = []          # List of magnet positions\n",
    "        self.dys = []         # List of magnet derivatives\n",
    "        self.Is = []          # List of current over time\n",
    "        self.V_hs = []        # List of hall voltages over time\n",
    "        self.PWMs = []        # List of PWM commands\n",
    "        self.e_list = []\n",
    "        self.de_list = []\n",
    "        self.E_list = []\n",
    "        self.V_e_list = []\n",
    "        \n",
    "        self.FORWARD = 1\n",
    "        self.REVERSE = -1   \n",
    "\n",
    "        \n",
    "    def set_amplifier_input(self, PWM, direction):\n",
    "        self.V_e = direction * PWMtoVolts(PWM)\n",
    "        \n",
    "    def get_hall_voltage(self):\n",
    "        # Dependent on both electromagnet voltage and magnet position\n",
    "        # Compute electromagnet voltage contribution\n",
    "        V_h_from_e = c_I_to_V_h * self.I\n",
    "        V_h = posToVolt(self.y, *hall_params) + C2*V_h_from_e - C3*self.dI\n",
    "        return V_h\n",
    "    \n",
    "    def reset_model(self):\n",
    "        # Reset state variables\n",
    "        self.V_e = 0\n",
    "        self.I = I_bar \n",
    "        self.y = y_bar\n",
    "        self.t = 0\n",
    "        self.dy = 0\n",
    "        self.e = 0                   \n",
    "        self.de = 0                \n",
    "        self.E = 0   \n",
    "        \n",
    "        self.ts = []          # List of timesteps\n",
    "        self.ys = []          # List of magnet positions\n",
    "        self.dys = []         # List of magnet derivatives\n",
    "        self.Is = []          # List of current over time\n",
    "        self.V_hs = []        # List of hall voltages over time\n",
    "        self.PWMs = []        # List of PWM commands\n",
    "        self.e_list = []\n",
    "        self.de_list = []\n",
    "        self.E_list = []\n",
    "        self.V_e_list = []\n",
    "        \n",
    "    def updateError(self, y): \n",
    "        # Update error measurements\n",
    "        \n",
    "        # Current error\n",
    "        self.e = y - y_bar\n",
    "        \n",
    "        # Derivative of error\n",
    "        if len(self.e_list) == 0:\n",
    "            # Handle derivative for first timestep\n",
    "            self.de = (self.e) / self.dt\n",
    "        else:\n",
    "            self.de = (self.e - self.e_list[-1]) / self.dt    # Derivative of error\n",
    "           \n",
    "        # Integral of error\n",
    "        self.E += self.e * self.dt\n",
    "        \n",
    "        # Save error to log\n",
    "        self.e_list.append(self.e)\n",
    "        self.de_list.append(self.de)\n",
    "        self.E_list.append(self.E)\n",
    "            \n",
    "    def runPIDControllerTest(self, end_t, Kp, Ki, Kd, warmup=True):\n",
    "        # Set setpoint to object starting distance\n",
    "       \n",
    "        self.reset_model()\n",
    "                \n",
    "        if warmup:\n",
    "            self.V_e = V_e_bar\n",
    "            self.I = I_bar\n",
    "            \n",
    "        while self.t < end_t:   \n",
    "            self.t += self.dt\n",
    "            self.V_h = self.get_hall_voltage()\n",
    "            \n",
    "            # Update voltage command at all timesteps \n",
    "            self.updateError(self.y)\n",
    "            self.V_e = computePIDController(Kp, Ki, Kd, self.e, self.E, self.de)\n",
    "            \n",
    "            dI = ((self.V_e - self.I * R) / L) * self.dt\n",
    "            self.I += dI\n",
    "            \n",
    "            # Compute position\n",
    "            if len(self.ys) == 0:\n",
    "                self.ys.append(y_bar)\n",
    "            d2y = (C1 * self.I / (m*L*4*math.pi*self.ys[-1]**2) + 9.81) * (self.dt)\n",
    "            self.dy += d2y * self.dt \n",
    "            self.y += self.dy\n",
    "            \n",
    "            # Cap position\n",
    "            if self.y > 0.1:\n",
    "                self.y = 0.1\n",
    "            elif self.y < 0.015:\n",
    "                self.y = 0.015\n",
    "            \n",
    "            # Log data point\n",
    "            self.ts.append(self.t)\n",
    "            self.Is.append(self.I)\n",
    "            self.V_hs.append(self.V_h)\n",
    "            self.dys.append(self.dy)\n",
    "            self.ys.append(self.y)\n",
    "            self.V_e_list.append(self.V_e)"
   ]
  },
  {
   "cell_type": "code",
   "execution_count": 23,
   "metadata": {},
   "outputs": [
    {
     "name": "stdout",
     "output_type": "stream",
     "text": [
      "Starting system...\n",
      "System started\n",
      "System stopped\n"
     ]
    },
    {
     "data": {
      "image/png": "[encoded data removed]",
      "text/plain": [
       "<Figure size 900x600 with 1 Axes>"
      ]
     },
     "metadata": {},
     "output_type": "display_data"
    }
   ],
   "source": [
    "sim = MagLevController()\n",
    "model = MagLevModel()\n",
    "\n",
    "end_t=1\n",
    "\n",
    "k = 855\n",
    "Kp = k*27\n",
    "Kd = k*1\n",
    "Ki=0\n",
    "\n",
    "# Whether to start magnet off at setpoint or not\n",
    "warmup = True\n",
    "\n",
    "sim.runPIDControllerTest(end_t, Kp, Ki, Kd, warmup)\n",
    "model.runPIDControllerTest(end_t, Kp, Ki, Kd, warmup)"
   ]
  },
  {
   "cell_type": "code",
   "execution_count": 24,
   "metadata": {},
   "outputs": [
    {
     "data": {
      "text/plain": [
       "<matplotlib.legend.Legend at 0x7f98e041fa90>"
      ]
     },
     "execution_count": 24,
     "metadata": {},
     "output_type": "execute_result"
    },
    {
     "data": {
      "image/png": "[encoded data removed]",
      "text/plain": [
       "<Figure size 900x600 with 1 Axes>"
      ]
     },
     "metadata": {},
     "output_type": "display_data"
    }
   ],
   "source": [
    "plt.plot(model.ts, -np.array(model.ys[1:]), label='Model Only')\n",
    "plt.plot(sim.t_list, -np.array(sim.y_list), '.-', label='Sim & Position/Inductor Model')\n",
    "plt.title(\"Position Over Time Comparison\")\n",
    "plt.ylabel(\"Position (m)\")\n",
    "plt.xlabel(\"Time (s)\")\n",
    "plt.legend()"
   ]
  },
  {
   "cell_type": "markdown",
   "metadata": {},
   "source": [
    "To see a video of our controller in action, visit: https://photos.app.goo.gl/DcuAdg23ufpoWhGv5"
   ]
  },
  {
   "cell_type": "code",
   "execution_count": null,
   "metadata": {},
   "outputs": [],
   "source": []
  }
 ],
 "metadata": {
  "kernelspec": {
   "display_name": "Python 3",
   "language": "python",
   "name": "python3"
  },
  "language_info": {
   "codemirror_mode": {
    "name": "ipython",
    "version": 3
   },
   "file_extension": ".py",
   "mimetype": "text/x-python",
   "name": "python",
   "nbconvert_exporter": "python",
   "pygments_lexer": "ipython3",
   "version": "3.7.3"
  }
 },
 "nbformat": 4,
 "nbformat_minor": 4
}
