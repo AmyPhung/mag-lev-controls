{
 "cells": [
  {
   "cell_type": "code",
   "execution_count": 8,
   "metadata": {},
   "outputs": [
    {
     "name": "stdout",
     "output_type": "stream",
     "text": [
      "Warning: Cannot change to a different GUI toolkit: notebook. Using widget instead.\n"
     ]
    }
   ],
   "source": [
    "# Set the matplotlib magic. This line is specific to ipython notebooks.\n",
    "#%matplotlib widget\n",
    "%matplotlib notebook\n",
    "# Import some useful module.\n",
    "import time\n",
    "from matplotlib import pyplot as plt\n",
    "from IPython.display import HTML\n",
    "\n",
    "# Import the system module.\n",
    "import mag_lev"
   ]
  },
  {
   "cell_type": "code",
   "execution_count": 18,
   "metadata": {},
   "outputs": [
    {
     "name": "stdout",
     "output_type": "stream",
     "text": [
      "Starting system...\n",
      "System started\n",
      "System stopped\n"
     ]
    }
   ],
   "source": [
    "# Create the system object.\n",
    "example_sys = mag_lev.MagLev()\n",
    "\n",
    "# Start the system.\n",
    "example_sys.start_system()\n",
    "\n",
    "# Set the amplifier's maximum voltage.\n",
    "example_sys.set_max_coil_voltage_magnitude(4.0)\n",
    "\n",
    "# Set the amplifier's voltage.\n",
    "example_sys.set_amplifier_input(200, example_sys.FORWARD)\n",
    "\n",
    "# Choose an object mass.\n",
    "example_sys.set_object_mass(3.0e-3)\n",
    "\n",
    "# Hold the magnet under the electromagnet.\n",
    "# example_sys.hold_magnet_at_distance(0.02)\n",
    "# example_sys.remove_magnet()\n",
    "# time.sleep(3.0)\n",
    "\n",
    "# print(\"Placing Magnet\")\n",
    "# example_sys.hold_magnet_at_distance(0.03)\n",
    "# t=0\n",
    "# t_dist3=[]\n",
    "# vh_dist3 = []\n",
    "# while t < 0.1:\n",
    "#     print(\"time =\", t, \"Hall Voltage =\", example_sys.get_hall_voltage())\n",
    "#     t_dist3.append(t)\n",
    "#     vh_dist3.append(example_sys.get_hall_voltage())\n",
    "#     t += 0.01\n",
    "#     time.sleep(0.01)\n",
    "\n",
    "    \n",
    "# print(\"Varying voltage on EM\")\n",
    "# example_sys.remove_magnet()\n",
    "# v=0\n",
    "# Voltage=[]\n",
    "# Vhall = []\n",
    "# while t < 5:\n",
    "#     if t\n",
    "#     print(\"Max Volt =\", v, \"Hall Voltage =\", example_sys.get_hall_voltage())\n",
    "#     max_volt.append(v)\n",
    "#     vh_maxV.append(example_sys.get_hall_voltage())\n",
    "#     v += 1\n",
    "#     example_sys.set_max_coil_voltage_magnitude(v)\n",
    "#     time.sleep(1.0)\n",
    "    \n",
    "# example_sys.remove_magnet() \n",
    "start_time = time.time()\n",
    "end_time = 3\n",
    "t = []\n",
    "vhall = []\n",
    "\n",
    "# while time.time() - start_time < end_time:\n",
    "#     if time.time() - start_time < 1:\n",
    "#         example_sys.set_max_coil_voltage_magnitude(5)\n",
    "#     elif time.time() - start_time < 2: \n",
    "#         example_sys.set_max_coil_voltage_magnitude(0)\n",
    "#     elif time.time() - start_time < 3:\n",
    "#         example_sys.set_max_coil_voltage_magnitude(5)\n",
    "#     elif time.time() - start_time < 4: \n",
    "#         example_sys.set_max_coil_voltage_magnitude(0)\n",
    "#     elif time.time() - start_time < 5:\n",
    "#         example_sys.set_max_coil_voltage_magnitude(5)\n",
    "#     elif time.time() - start_time < 6: \n",
    "#         example_sys.set_max_coil_voltage_magnitude(0)     \n",
    "# #     print(example_sys.get_hall_voltage())\n",
    "#     t.append(time.time())\n",
    "#     vhall.append(example_sys.get_hall_voltage())\n",
    "#     pass\n",
    "\n",
    "\n",
    "\n",
    "while time.time() - start_time < end_time:\n",
    "    if time.time() - start_time < 1:\n",
    "        example_sys.set_amplifier_input(200, example_sys.FORWARD)\n",
    "    elif time.time() - start_time < 2: \n",
    "        example_sys.set_amplifier_input(0, example_sys.FORWARD)\n",
    "    elif time.time() - start_time < 3:\n",
    "        example_sys.set_amplifier_input(200, example_sys.REVERSE)\n",
    "    elif time.time() - start_time < 4: \n",
    "        example_sys.set_amplifier_input(0, example_sys.FORWARD)\n",
    "    elif time.time() - start_time < 5:\n",
    "        example_sys.set_amplifier_input(200, example_sys.FORWARD)\n",
    "    elif time.time() - start_time < 6: \n",
    "        example_sys.set_amplifier_input(0, example_sys.FORWARD)     \n",
    "#     print(example_sys.get_hall_voltage())\n",
    "    t.append(time.time())\n",
    "    vhall.append(example_sys.get_hall_voltage())\n",
    "    pass   \n",
    "\n",
    "\n",
    "# while time.time() - start_time < end_time:\n",
    "#     if time.time() - start_time < 1:\n",
    "#         pass\n",
    "#         example_sys.hold_magnet_at_distance(0.02)\n",
    "#     elif time.time() - start_time < 2: \n",
    "#         example_sys.hold_magnet_at_distance(0.03)\n",
    "#     elif time.time() - start_time < 3:\n",
    "#         example_sys.hold_magnet_at_distance(0.02)\n",
    "#     elif time.time() - start_time < 4: \n",
    "#         example_sys.hold_magnet_at_distance(0.03)\n",
    "#     elif time.time() - start_time < 5:\n",
    "#         example_sys.hold_magnet_at_distance(0.02)\n",
    "#     elif time.time() - start_time < 6: \n",
    "#         example_sys.hold_magnet_at_distance(0.03)     \n",
    "# #     print(example_sys.get_hall_voltage())\n",
    "#     t.append(time.time())\n",
    "#     vhall.append(example_sys.get_hall_voltage())\n",
    "#     pass   \n",
    "    \n",
    "\n",
    "\n",
    "\n",
    "\n",
    "\n",
    "\n",
    "\n",
    "    \n",
    "# print(\"Removing Magnet\")\n",
    "# example_sys.remove_magnet()\n",
    "# t = 0\n",
    "# t_remove=[]\n",
    "# vh_remove = []\n",
    "# while t < 0.1:\n",
    "#     print(\"time =\", t, \"Hall Voltage =\", example_sys.get_hall_voltage())\n",
    "#     t_remove.append(t)\n",
    "#     vh_remove.append(example_sys.get_hall_voltage())\n",
    "#     t += 0.01\n",
    "#     time.sleep(0.01)\n",
    "\n",
    "\n",
    "example_sys.stop_system()\n",
    "\n",
    "# Wait a moment to make sure the system fully stopped.\n",
    "\n",
    "# Note that all the other waits were as desired except the following wait\n",
    "# as the system will not give an animation if the system is not fully\n",
    "# stopped.\n",
    "time.sleep(1.0)\n",
    "\n",
    "# # After running up to this point, the notebook is about 4.8 [kB]."
   ]
  },
  {
   "cell_type": "code",
   "execution_count": 19,
   "metadata": {},
   "outputs": [
    {
     "data": {
      "application/vnd.jupyter.widget-view+json": {
       "model_id": "fd83baae0d1348f7ba021bafee15f4c2",
       "version_major": 2,
       "version_minor": 0
      },
      "text/plain": [
       "Canvas(toolbar=Toolbar(toolitems=[('Home', 'Reset original view', 'home', 'home'), ('Back', 'Back to previous …"
      ]
     },
     "metadata": {},
     "output_type": "display_data"
    }
   ],
   "source": [
    "# plt.plot(t_dist3, vh_dist3, label = 'Permanent magnet at 0.03')\n",
    "# plt.plot(t_dist6, vh_dist6, label = 'Permanent magnet at 0.06')\n",
    "# plt.plot(t_remove, vh_remove, label = 'No permanent magnet')\n",
    "fig = plt.figure()\n",
    "plt.plot(t, vhall)\n",
    "plt.xlabel(\"Time [s]\")\n",
    "plt.ylabel(\"Hall Effect Voltage\")\n",
    "plt.title(\"Magnet at 0.02 and 0.03 distance cycling at 1Hz\")\n",
    "# plt.legend()\n",
    "plt.show()"
   ]
  },
  {
   "cell_type": "code",
   "execution_count": 13,
   "metadata": {},
   "outputs": [
    {
     "name": "stdout",
     "output_type": "stream",
     "text": [
      "{'rF': 1e-09, 'hq': 0.1, 'cy': 1.731e-08, 'DR': 0.003, 'Fy': 9.81, 'ZE': 2.41, 'yw': 0.01503, 'MX': 2.48, 'Us': 0.000292, 'fd': 0.48, 'fu': 10.0, 'lp': 4.0, 'vl': 8, 'PB': 255, 'mR': 0.01568627450980392, 'uj': 180, 'kd': 4.2, 'RY': 0.8, 'PE': 9e-05, 'sQ': 4e-05, 'fI': 1620184228.9233062, 'Pv': 1620184231.925202, 'Ez': 1e-09, 'Iy': 0.0005, 'hK': 0.0001, 'yO': 3.1372549019607843, 'oF': 3.13732837739577, 'Fs': 0.02, 'mz': 0.0, 'sb': 1.3017690871937924, 'mx': True, 'qM': True, 'jV': True, 'ra': 0.0, 'GJ': <Thread(Thread-5, stopped daemon 140045708859136)>, 'LZ': True, 'IQ': True, 'Vt': True, 'VM': [0.02, 0.02, 0.02, 0.02, 0.02, 0.02, 0.02, 0.02, 0.02, 0.02, 0.02, 0.02, 0.02, 0.02, 0.02, 0.02, 0.02, 0.02, 0.02, 0.02, 0.02, 0.02, 0.02, 0.02, 0.02, 0.02, 0.02, 0.02, 0.02, 0.03, 0.03, 0.03, 0.03, 0.03, 0.03, 0.03, 0.03, 0.03, 0.03, 0.03, 0.03, 0.03, 0.03, 0.03, 0.03, 0.03, 0.03, 0.03, 0.03, 0.03, 0.03, 0.03, 0.03, 0.03, 0.03, 0.03, 0.03, 0.03, 0.03, 0.02, 0.02, 0.02, 0.02, 0.02, 0.02, 0.02, 0.02, 0.02, 0.02, 0.02, 0.02, 0.02, 0.02, 0.02, 0.02, 0.02, 0.02, 0.02, 0.02, 0.02, 0.02, 0.02, 0.02, 0.02, 0.02, 0.02, 0.02, 0.02, 0.02], 'Lk': 30, 'JE': 0.03333333333333333, 'Oa': 1620184231.8958263}\n"
     ]
    }
   ],
   "source": [
    "print(example_sys.__dict__)"
   ]
  },
  {
   "cell_type": "code",
   "execution_count": 34,
   "metadata": {},
   "outputs": [],
   "source": [
    "# Sometimes the below commands can be finicky or require a refresh of the page.\n",
    "# Sometimes they just take a while to load. Sometimes minutes.\n",
    "# Note that two plots always seem to show up (although unclear why)."
   ]
  },
  {
   "cell_type": "code",
   "execution_count": 12,
   "metadata": {},
   "outputs": [
    {
     "data": {
      "application/vnd.jupyter.widget-view+json": {
       "model_id": "27cfb93710654605bfc8399ad915d4f3",
       "version_major": 2,
       "version_minor": 0
      },
      "text/plain": [
       "Canvas(toolbar=Toolbar(toolitems=[('Home', 'Reset original view', 'home', 'home'), ('Back', 'Back to previous …"
      ]
     },
     "metadata": {},
     "output_type": "display_data"
    }
   ],
   "source": [
    "# Take a look. Make sure all the above makes sense given the animation.\n",
    "# For some reason, this line causes the animation to display (although not smoothly).\n",
    "anim = example_sys.create_system_animation();\n",
    "# After running up to this point, the notebook is about 5.5 [kB]."
   ]
  },
  {
   "cell_type": "code",
   "execution_count": 37,
   "metadata": {},
   "outputs": [],
   "source": [
    "# Use pyplot as a default, but likely the playback will be poor.\n",
    "# plt.show()"
   ]
  },
  {
   "cell_type": "code",
   "execution_count": 9,
   "metadata": {},
   "outputs": [],
   "source": [
    "# To remove the animation object to shrink the notebook, \n",
    "# run the following command and rerun the cell containing the plot above.\n",
    "%reset_selective -f anim"
   ]
  },
  {
   "cell_type": "code",
   "execution_count": 27,
   "metadata": {},
   "outputs": [
    {
     "ename": "NameError",
     "evalue": "name 'anim' is not defined",
     "output_type": "error",
     "traceback": [
      "\u001b[0;31m---------------------------------------------------------------------------\u001b[0m",
      "\u001b[0;31mNameError\u001b[0m                                 Traceback (most recent call last)",
      "\u001b[0;32m<ipython-input-27-26f48f0f22f7>\u001b[0m in \u001b[0;36m<module>\u001b[0;34m\u001b[0m\n\u001b[1;32m      1\u001b[0m \u001b[0;31m# A nice video can be produced with the following command. This could take maybe 30 [s].\u001b[0m\u001b[0;34m\u001b[0m\u001b[0;34m\u001b[0m\u001b[0;34m\u001b[0m\u001b[0m\n\u001b[0;32m----> 2\u001b[0;31m \u001b[0manim_video\u001b[0m \u001b[0;34m=\u001b[0m \u001b[0mHTML\u001b[0m\u001b[0;34m(\u001b[0m\u001b[0manim\u001b[0m\u001b[0;34m.\u001b[0m\u001b[0mto_html5_video\u001b[0m\u001b[0;34m(\u001b[0m\u001b[0;34m)\u001b[0m\u001b[0;34m)\u001b[0m\u001b[0;34m\u001b[0m\u001b[0;34m\u001b[0m\u001b[0m\n\u001b[0m\u001b[1;32m      3\u001b[0m \u001b[0;31m# After running up to this point, the notebook is about 68.4 [kB].\u001b[0m\u001b[0;34m\u001b[0m\u001b[0;34m\u001b[0m\u001b[0;34m\u001b[0m\u001b[0m\n",
      "\u001b[0;31mNameError\u001b[0m: name 'anim' is not defined"
     ]
    }
   ],
   "source": [
    "# A nice video can be produced with the following command. This could take maybe 30 [s].\n",
    "anim_video = HTML(anim.to_html5_video())\n",
    "# After running up to this point, the notebook is about 68.4 [kB]."
   ]
  },
  {
   "cell_type": "code",
   "execution_count": null,
   "metadata": {
    "scrolled": false
   },
   "outputs": [],
   "source": [
    "# Display the video.\n",
    "anim_video"
   ]
  },
  {
   "cell_type": "code",
   "execution_count": 21,
   "metadata": {},
   "outputs": [],
   "source": [
    "# In order to shrink the notebook (which is important), \n",
    "# run the following then rerun the above cell containing the video.\n",
    "%reset_selective -f anim_video"
   ]
  },
  {
   "cell_type": "code",
   "execution_count": 96,
   "metadata": {},
   "outputs": [
    {
     "data": {
      "text/plain": [
       "3.9899999999999998"
      ]
     },
     "execution_count": 96,
     "metadata": {},
     "output_type": "execute_result"
    }
   ],
   "source": [
    "3.678+0.156*2"
   ]
  },
  {
   "cell_type": "code",
   "execution_count": 93,
   "metadata": {},
   "outputs": [
    {
     "data": {
      "text/plain": [
       "0.15700000000000003"
      ]
     },
     "execution_count": 93,
     "metadata": {},
     "output_type": "execute_result"
    }
   ],
   "source": []
  },
  {
   "cell_type": "code",
   "execution_count": null,
   "metadata": {},
   "outputs": [],
   "source": []
  }
 ],
 "metadata": {
  "kernelspec": {
   "display_name": "Python 3",
   "language": "python",
   "name": "python3"
  },
  "language_info": {
   "codemirror_mode": {
    "name": "ipython",
    "version": 3
   },
   "file_extension": ".py",
   "mimetype": "text/x-python",
   "name": "python",
   "nbconvert_exporter": "python",
   "pygments_lexer": "ipython3",
   "version": "3.7.3"
  }
 },
 "nbformat": 4,
 "nbformat_minor": 4
}
